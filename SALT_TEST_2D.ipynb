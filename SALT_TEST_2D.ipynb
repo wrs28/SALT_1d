{
 "cells": [
  {
   "cell_type": "code",
   "execution_count": 1,
   "metadata": {
    "collapsed": false
   },
   "outputs": [],
   "source": [
    "using PyPlot\n",
    "using NLsolve\n",
    "\n",
    "if length(LOAD_PATH) < 3\n",
    "    push!(LOAD_PATH,\"/Users/wrsweeney/Box Sync/Research/SALT\")\n",
    "#    push!(LOAD_PATH,\"/home/wrs28/Documents/SALT\")\n",
    "end\n",
    "\n",
    "using SALT_2d_Plot\n",
    "\n",
    "if nprocs() == 1\n",
    "    addprocs(3)\n",
    "#     addprocs(20)\n",
    "end\n",
    "\n",
    "using SALT_2d\n",
    "using SALT_2d_Parallel"
   ]
  },
  {
   "cell_type": "code",
   "execution_count": null,
   "metadata": {
    "collapsed": false
   },
   "outputs": [],
   "source": [
    "# check CF solver for incoming and outgoing states\n",
    "\n",
    "inputs = processInputs()\n",
    "η,u = computeCFs(inputs, inputs[\"k₀\"], 2; bc = \"out\")\n",
    "β,v = computeCFs(inputs, inputs[\"k₀\"], 10; bc = \"in\")\n",
    "plot(real(β),imag(β),\"o\")"
   ]
  },
  {
   "cell_type": "code",
   "execution_count": null,
   "metadata": {
    "collapsed": false,
    "scrolled": false
   },
   "outputs": [],
   "source": [
    "# plot CF results (make sure plotting routine works)\n",
    "wavePlot(u,inputs; array = false, how = real)\n",
    "wavePlot(v,inputs)"
   ]
  },
  {
   "cell_type": "code",
   "execution_count": null,
   "metadata": {
    "collapsed": false
   },
   "outputs": [],
   "source": [
    "N = 15\n",
    "inputs = processInputs()\n",
    "k,ψ = computePolesL(inputs, inputs[\"k₀\"] , N; F = 0.,truncate = true)\n",
    ";"
   ]
  },
  {
   "cell_type": "code",
   "execution_count": null,
   "metadata": {
    "collapsed": false
   },
   "outputs": [],
   "source": [
    "# compute exact resonances of disk\n",
    "\n",
    "n = 3\n",
    "R = .3\n",
    "\n",
    "M = 16\n",
    "Z = NaN*zeros(Complex128,M+1,25)\n",
    "\n",
    "for m in 0:M\n",
    "    function f!(x,fvec)\n",
    "    \n",
    "        k = x[1]+1im*x[2]\n",
    "    \n",
    "        f = n*(besselj(m-1,n*k*R)-besselj(m+1,n*k*R))/besselj(m,n*k*R) - (hankelh1(m-1,k*R)-hankelh1(m+1,k*R))/hankelh1(m,k*R)\n",
    "     \n",
    "        fvec[1] = real(f)\n",
    "        fvec[2] = imag(f)\n",
    "\n",
    "    end\n",
    "\n",
    "\n",
    "    x = linspace(0,50,1e4)\n",
    "    j = besselj(m,x[2:end])-besselj(m,x[1:end-1])\n",
    "    zero_inds = find(sign(j[1:end-1]).*sign(j[2:end]).<0)\n",
    "    for z in 1:length(zero_inds)\n",
    "        Z[m+1,z] = x[zero_inds[z]]\n",
    "        kk = nlsolve(f!,[real(Z[m+1,z]),0])\n",
    "        Z[m+1,z] = kk.zero[1]+1im*kk.zero[2]    \n",
    "    end\n",
    "    \n",
    "end"
   ]
  },
  {
   "cell_type": "code",
   "execution_count": null,
   "metadata": {
    "collapsed": false
   },
   "outputs": [],
   "source": [
    "# compare computed vs exact resonances for disk\n",
    "# lines connect fixed m values\n",
    "\n",
    "#plot(real(k),log10(-imag(k)),\"s\",mfc=\"none\",mec=\"k\")\n",
    "plot(real(Z)',imag(Z)',\"x--\",mec=\"k\")\n",
    "plot(real(k),imag(k),\"s\",mfc=\"none\",mec=\"k\")\n",
    "xlim([12,18])\n",
    ";"
   ]
  },
  {
   "cell_type": "code",
   "execution_count": null,
   "metadata": {
    "collapsed": false
   },
   "outputs": [],
   "source": [
    "#verify computePolesL\n",
    "\n",
    "inputs = processInputs()\n",
    "\n",
    "nD = 11\n",
    "nPoles = 5\n",
    "D = linspace(-0.25,0.25,nD)\n",
    "\n",
    "kp = NaN*zeros(Complex128,nPoles,nD)\n",
    "ψp = NaN*zeros(Complex128,prod(inputs[\"N_ext\"]),nPoles,nD)\n",
    "for d in 1:nD\n",
    "    if d/3==round(d/3)\n",
    "        println(d)\n",
    "    end\n",
    "    inputs[\"D₀\"] = D[d]\n",
    "    kp[:,d],ψp[:,:,d] = computePolesL(inputs, inputs[\"k₀\"], nPoles; F=1.)\n",
    "    perm = sortperm(conj(kp[:,d]),by=real)\n",
    "    kp[:,d] = kp[perm,d]\n",
    "    ψp[:,:,d] = ψp[:,perm,d]\n",
    "end\n",
    "\n",
    "figure(1)\n",
    "title(\"Trajectories of poles as n'' is varied uniformly. Circle indicates n''=0.\")\n",
    "plot(real(kp)',imag(kp)',\"-x\")\n",
    "plot(real(kp[:,ceil(Int,nD/2)]),imag(kp[:,ceil(Int,nD/2)]),\"o\")\n",
    "grid(true)\n",
    ";"
   ]
  },
  {
   "cell_type": "code",
   "execution_count": null,
   "metadata": {
    "collapsed": false
   },
   "outputs": [],
   "source": [
    "#verify computeZerosL\n",
    "\n",
    "inputs = processInputs()\n",
    "\n",
    "nD = 11\n",
    "nZeros = 5\n",
    "D = linspace(-0.25,0.25,nD)\n",
    "\n",
    "kz = NaN*zeros(Complex128,nZeros,nD)\n",
    "ψz = NaN*zeros(Complex128,prod(inputs[\"N_ext\"]),nZeros,nD)\n",
    "for d in 1:nD\n",
    "    if d/3==round(d/3)\n",
    "        println(d)\n",
    "    end\n",
    "    inputs[\"D₀\"] = D[d]\n",
    "    kz[:,d],ψz[:,:,d] = computeZerosL(inputs, inputs[\"k₀\"], nZeros; F=1.)\n",
    "    perm = sortperm(conj(kz[:,d]),by=real)\n",
    "    kz[:,d] = kz[perm,d]\n",
    "    ψz[:,:,d] = ψz[:,perm,d]\n",
    "end\n",
    "\n",
    "figure(1)\n",
    "title(\"Trajectories of zeros as n'' is varied uniformly. Circle indicates n''=0.\")\n",
    "plot(real(kz)',imag(kz)',\"-x\")\n",
    "plot(real(kz[:,ceil(Int,nD/2)]),imag(kz[:,ceil(Int,nD/2)]),\"o\")\n",
    "grid(true)\n",
    ";"
   ]
  },
  {
   "cell_type": "code",
   "execution_count": null,
   "metadata": {
    "collapsed": false,
    "scrolled": true
   },
   "outputs": [],
   "source": [
    "#verify computePolesNL1\n",
    "\n",
    "inputs = processInputs()\n",
    "\n",
    "nD = 10\n",
    "D = linspace(0,0.1,nD)\n",
    "nPoles = 5\n",
    "\n",
    "kp_init, ψp_init = computePolesL(inputs,inputs[\"k₀\"],nPoles;F=1.)\n",
    "\n",
    "kp = NaN*zeros(Complex128,nPoles,nD)\n",
    "ψp = NaN*zeros(Complex128,prod(inputs[\"N_ext\"]),nPoles,nD)\n",
    "η = 0\n",
    "\n",
    "for n in 1:nPoles\n",
    "    for d in 1:nD\n",
    "        if d/1==round(d/1)\n",
    "            println([n,d])\n",
    "        end\n",
    "        \n",
    "        inputs[\"D₀\"] = D[d]\n",
    "\n",
    "        if d==1\n",
    "            kp[n,d],ψp[:,n,d],η,conv = computePolesNL1(inputs, kp_init[n]; F=1., dispOpt = false ,tol = .7, max_count = 15, max_iter = 50)\n",
    "        else\n",
    "            kp[n,d],ψp[:,n,d],η,conv = computePolesNL1(inputs, kp[n,d-1] ; F=1., dispOpt = false ,tol = .7, max_count = 15, max_iter = 50, η_init = η, u_init = ψp[:,n,d-1] )\n",
    "        end\n",
    "\n",
    "    end\n",
    "end\n",
    "\n",
    "figure(1)\n",
    "plot(real(kp)',imag(kp)',\"-x\")\n",
    ";"
   ]
  },
  {
   "cell_type": "code",
   "execution_count": null,
   "metadata": {
    "collapsed": false
   },
   "outputs": [],
   "source": [
    "#verify computeZerosNL1\n",
    "\n",
    "inputs = processInputs()\n",
    "\n",
    "nD = 10\n",
    "D = linspace(0,-0.1,nD)\n",
    "nZeros = 5\n",
    "\n",
    "kz_init, ψz_init = computeZerosL(inputs,inputs[\"k₀\"],nZeros;F=1.)\n",
    "\n",
    "kz = NaN*zeros(Complex128,nZeros,nD)\n",
    "ψz = NaN*zeros(Complex128,prod(inputs[\"N_ext\"]),nZeros,nD)\n",
    "β = 0\n",
    "\n",
    "for n in 1:nZeros\n",
    "    for d in 1:nD\n",
    "        if d/3==round(d/3)\n",
    "            println([n,d])\n",
    "        end\n",
    "        inputs[\"D₀\"] = D[d]\n",
    "        if d==1\n",
    "            kz[n,d],ψz[:,n,d],β,conv = computeZerosNL1(inputs, kz_init[n]; F=1., dispOpt = false ,tol = .7, max_count = 15, max_iter = 50)\n",
    "        else\n",
    "            kz[n,d],ψz[:,n,d],β,conv = computeZerosNL1(inputs, kz[n,d-1] ; F=1., dispOpt = false ,tol = .7, max_count = 15, max_iter = 50, β_init = β, v_init = ψz[:,n,d-1] )\n",
    "        end\n",
    "    end\n",
    "end\n",
    "\n",
    "figure(1)\n",
    "plot(real(kz)',imag(kz)',\"-x\")   \n",
    ";"
   ]
  },
  {
   "cell_type": "code",
   "execution_count": null,
   "metadata": {
    "collapsed": false
   },
   "outputs": [],
   "source": [
    "# verify computeZerosNL2\n",
    "\n",
    "inputs = processInputs()\n",
    "\n",
    "nD = 10\n",
    "D = linspace(0,-0.4,nD)\n",
    "\n",
    "kzz1 = Array(Any,nD)\n",
    "kzz2 = Array(Any,nD)\n",
    "\n",
    "tic()\n",
    "for d in 1:nD\n",
    "    println(d)\n",
    "    inputs[\"D₀\"] = D[d]\n",
    "    kzz1[d] = computeZerosNL2(inputs, inputs[\"k₀\"], (2.75,.4); Nq=150, nZeros=7, F=1., R_min = .01)\n",
    "end\n",
    "toc()\n",
    "\n",
    "tic()\n",
    "for d in 1:nD\n",
    "    println(d)\n",
    "    inputs[\"D₀\"] = D[d]\n",
    "    kzz2[d] = computeZerosNL2_parallel(inputs, inputs[\"k₀\"], (2.75,.4); Nq=150, nZeros=7, F=1., R_min = .01)\n",
    "end\n",
    "toc()\n",
    "\n",
    "for d in 1:nD\n",
    "    plot(real(kzz1[d]),imag(kzz1[d]),\"s\")\n",
    "    plot(real(kzz2[d]),imag(kzz2[d]),\"o\")\n",
    "end\n",
    ";"
   ]
  },
  {
   "cell_type": "code",
   "execution_count": null,
   "metadata": {
    "collapsed": true
   },
   "outputs": [],
   "source": [
    "#verifying that computeZerosNL1 and computeZerosNL2 agree\n",
    "\n",
    "figure(1)\n",
    "plot(real(kz),imag(kz),\"-x\")\n",
    "\n",
    "for d in 1:nD\n",
    "    plot(real(kzz1[d]),imag(kzz1[d]),\"o\", mfc = \"none\")\n",
    "    plot(real(kzz2[d]),imag(kzz2[d]),\"s\", mfc = \"none\")\n",
    "end"
   ]
  },
  {
   "cell_type": "code",
   "execution_count": null,
   "metadata": {
    "collapsed": false
   },
   "outputs": [],
   "source": [
    "# TEST SPA scattered\n",
    "inputs[\"a\"] = 1.\n",
    "inputs[\"D₀\"] = .2\n",
    "ψ = solve_SPA(inputs, real(ω1[1]), z₀=.15im)"
   ]
  },
  {
   "cell_type": "code",
   "execution_count": null,
   "metadata": {
    "collapsed": false
   },
   "outputs": [],
   "source": [
    "# TEST SCATTER SOLVER\n",
    "Ψ = solve_scattered(inputs, real(ω1[1]); isNonLinear=true,ψ_init = ψ)"
   ]
  },
  {
   "cell_type": "code",
   "execution_count": null,
   "metadata": {
    "collapsed": false
   },
   "outputs": [],
   "source": [
    "# TEST SPA Lasing\n",
    "a = copy(inputs[\"a\"])\n",
    "inputs[\"a\"] = 0.\n",
    "inputs[\"D₀\"] = D2\n",
    "ψ₊,ψ₋,dummy = solve_SPA(inputs, real(ω1[1]),z₀₊=.0001im,z₀₋=.0001im)\n",
    "\n",
    "plot(inputs[\"x\"],abs2(ψ₊[inputs[\"x_inds\"]]))\n",
    "hold(true)\n",
    "plot(inputs[\"x\"],abs2(ψ₋[inputs[\"x_inds\"]]));"
   ]
  },
  {
   "cell_type": "code",
   "execution_count": null,
   "metadata": {
    "collapsed": false
   },
   "outputs": [],
   "source": [
    "# TEST LASING SOLVER\n",
    "ψ₊ = 1im*ψ₊/exp(1im*angle(ψ₊[1]))\n",
    "ψ₋ = 1im*ψ₋/exp(1im*angle(ψ₋[1]))\n",
    "ψ,ω = solve_lasing(inputs, inputs[\"D₀\"], ψ_init=ψ₊,ω_init = real(ω1[1]), inds = 14)\n",
    "ω"
   ]
  }
 ],
 "metadata": {
  "kernelspec": {
   "display_name": "Julia 0.5.1",
   "language": "julia",
   "name": "julia-0.5"
  },
  "language_info": {
   "file_extension": ".jl",
   "mimetype": "application/julia",
   "name": "julia",
   "version": "0.5.1"
  }
 },
 "nbformat": 4,
 "nbformat_minor": 0
}
