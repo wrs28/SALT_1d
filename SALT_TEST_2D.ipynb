{
 "cells": [
  {
   "cell_type": "code",
   "execution_count": 7,
   "metadata": {
    "collapsed": false
   },
   "outputs": [],
   "source": [
    "if length(LOAD_PATH)<3\n",
    "\n",
    "#    addprocs(3)\n",
    "    push!(LOAD_PATH,\"/Users/wrsweeney/Box Sync/Research/SALT\")\n",
    "    \n",
    "#    addprocs(20)\n",
    "#    push!(LOAD_PATH,\"/home/wrs28/Documents/SALT\")\n",
    "end\n",
    "\n",
    "using SALT_2d\n",
    "using PyPlot"
   ]
  },
  {
   "cell_type": "code",
   "execution_count": 12,
   "metadata": {
    "collapsed": false
   },
   "outputs": [],
   "source": [
    "# verify computePolesL\n",
    "\n",
    "N = 10\n",
    "\n",
    "inputs = processInputs()\n",
    "k,ψ = computePolesL(inputs, inputs[\"k₀\"], N, F = 0.,truncate = false)\n",
    "\n",
    "ψ_plot = NaN*zeros(Complex128,N,inputs[\"N_ext\"][1],inputs[\"N_ext\"][2])\n",
    "for i in 1:N\n",
    "    ψ_plot[i,:,:] = reshape(ψ[:,i],(inputs[\"N_ext\"][1],inputs[\"N_ext\"][2]))\n",
    "end\n",
    "perm = sortperm(conj(k),by=imag)\n",
    "k = k[perm]\n",
    "ψ_plot = ψ_plot[perm,:,:]\n",
    ";"
   ]
  },
  {
   "cell_type": "code",
   "execution_count": null,
   "metadata": {
    "collapsed": false,
    "scrolled": false
   },
   "outputs": [],
   "source": [
    "# plot results of computePolesL wavefunctions\n",
    "\n",
    "figure(figsize=5*[3,(N+1)])\n",
    "subplots_adjust(hspace=0.0)\n",
    "subplots_adjust(wspace=0.0)\n",
    "\n",
    "r = SALT_2d.Core.whichRegion( (inputs[\"x_ext\"],inputs[\"u_ext\"]) ,inputs[\"∂_ext\"],inputs[\"geometry\"])\n",
    "subplot(N+1,3,2)\n",
    "pcolormesh(inputs[\"x_ext\"],inputs[\"u_ext\"],r.')\n",
    "xlim([inputs[\"∂_ext\"][1],inputs[\"∂_ext\"][2]])\n",
    "ylim([inputs[\"∂_ext\"][3],inputs[\"∂_ext\"][4]])\n",
    "\n",
    "subplot(N+1,3,1)\n",
    "pcolormesh(inputs[\"x_ext\"],inputs[\"u_ext\"],inputs[\"ɛ_ext\"][r].')\n",
    "xlim([inputs[\"∂_ext\"][1],inputs[\"∂_ext\"][2]])\n",
    "ylim([inputs[\"∂_ext\"][3],inputs[\"∂_ext\"][4]])\n",
    "\n",
    "subplot(N+1,3,3)\n",
    "sₓ,sᵤ = SALT_2d.Core.σ((inputs[\"x_ext\"],inputs[\"u_ext\"]),inputs[\"∂_ext\"],inputs[\"geometry\"])\n",
    "Sₓ = sparse(1:inputs[\"N_ext\"][1],1:inputs[\"N_ext\"][1],sₓ)*ones(Complex128,inputs[\"N_ext\"][1],inputs[\"N_ext\"][2])\n",
    "Sᵤ = ones(Complex128,inputs[\"N_ext\"][1],inputs[\"N_ext\"][2])*sparse(1:inputs[\"N_ext\"][2],1:inputs[\"N_ext\"][2],sᵤ)\n",
    "pcolormesh(inputs[\"x_ext\"],inputs[\"u_ext\"],real(Sₓ+Sᵤ)')\n",
    "xlim([inputs[\"∂_ext\"][1],inputs[\"∂_ext\"][2]])\n",
    "ylim([inputs[\"∂_ext\"][3],inputs[\"∂_ext\"][4]])\n",
    "\n",
    "for i in 1:N\n",
    "    \n",
    "    subplot(N+1,3,3+3*(i-1)+1); axt = gca()\n",
    "    pcolormesh(inputs[\"x_ext\"],inputs[\"u_ext\"],real(ψ_plot[i,:,:]).',cmap = \"bwr\")\n",
    "    xlim([inputs[\"∂_ext\"][1],inputs[\"∂_ext\"][2]])\n",
    "    ylim([inputs[\"∂_ext\"][3],inputs[\"∂_ext\"][4]])\n",
    "    clim(.2*[-1,1])\n",
    "    setp(axt[:get_xticklabels](),visible=false)\n",
    "    setp(axt[:get_yticklabels](),visible=false)\n",
    "    \n",
    "    subplot(N+1,3,3+3*(i-1)+2); axt = gca()\n",
    "    pcolormesh(inputs[\"x_ext\"],inputs[\"u_ext\"],imag(ψ_plot[i,:,:]).',cmap = \"bwr\")\n",
    "    xlim([inputs[\"∂_ext\"][1],inputs[\"∂_ext\"][2]])\n",
    "    ylim([inputs[\"∂_ext\"][3],inputs[\"∂_ext\"][4]])\n",
    "    clim(.2*[-1,1])\n",
    "    setp(axt[:get_xticklabels](),visible=false)\n",
    "    setp(axt[:get_yticklabels](),visible=false)\n",
    "    \n",
    "    subplot(N+1,3,3+3*(i-1)+3); axt = gca()\n",
    "    pcolormesh(inputs[\"x_ext\"],inputs[\"u_ext\"],abs2(ψ_plot[i,:,:]).',cmap = \"gray\")\n",
    "    xlim([inputs[\"∂_ext\"][1],inputs[\"∂_ext\"][2]])\n",
    "    ylim([inputs[\"∂_ext\"][3],inputs[\"∂_ext\"][4]])\n",
    "    clim(.2*.2*[0,1])\n",
    "    setp(axt[:get_xticklabels](),visible=false)\n",
    "    setp(axt[:get_yticklabels](),visible=false)\n",
    "\n",
    "\n",
    "    \n",
    "end"
   ]
  },
  {
   "cell_type": "code",
   "execution_count": null,
   "metadata": {
    "collapsed": true
   },
   "outputs": [],
   "source": [
    "#verify computePolesL\n",
    "\n",
    "inputs = processInputs()\n",
    "\n",
    "nD = 10\n",
    "nPoles = 3\n",
    "D = linspace(-.25,0.25,nD)\n",
    "\n",
    "kp = NaN*zeros(Complex128,nD,nPoles)\n",
    "ψp = NaN*zeros(Complex128,nD,inputs[\"N_ext\"],nPoles)\n",
    "for d in 1:nD\n",
    "    inputs[\"D₀\"] = D[d]\n",
    "    kp[d,:],ψp[d,:,:] = computePolesL(inputs, inputs[\"k₀\"], nPoles; F=1.)\n",
    "end\n",
    "\n",
    "figure(1)\n",
    "title(\"Trajectories of poles as n'' is varied uniformly. Circle indicates n''=0.\")\n",
    "plot(real(kp),imag(kp),\"-x\")\n",
    "plot(real(kp[ceil(Int,nD/2),:]),imag(kp[ceil(Int,nD/2),:]),\"o\")\n",
    "grid(true)\n",
    "\n",
    "figure(2)\n",
    "title(\"Wavefunctions associated with a pole at varying n''.\")\n",
    "plot(inputs[\"x_ext\"],abs2(ψp[:,:,1]'))\n",
    ";"
   ]
  },
  {
   "cell_type": "code",
   "execution_count": null,
   "metadata": {
    "collapsed": false
   },
   "outputs": [],
   "source": [
    "ψ_plot = reshape(ψ[:,2],(inputs[\"N_ext\"][1],inputs[\"N_ext\"][2]))#[inputs[\"x_inds\"],inputs[\"u_inds\"]]\n",
    "pcolormesh(real(ψ_plot).',cmap = \"bwr\")\n",
    "colorbar()\n",
    "#clim([-1,1]*.004)\n",
    "\n",
    "figure(2)\n",
    "pcolormesh(abs2(ψ_plot).',cmap = \"gray\")\n",
    "colorbar()"
   ]
  },
  {
   "cell_type": "code",
   "execution_count": null,
   "metadata": {
    "collapsed": false
   },
   "outputs": [],
   "source": [
    "figure(2)\n",
    "plot(real(ω)*3/π,imag(ω),\"o\")\n",
    "ylim([-1,0])\n",
    "grid(true)"
   ]
  },
  {
   "cell_type": "code",
   "execution_count": null,
   "metadata": {
    "collapsed": false
   },
   "outputs": [],
   "source": [
    "N = 50\n",
    "δD = .005\n",
    "\n",
    "Ω = NaN*zeros(Complex128,N,length(ω))\n",
    "\n",
    "for j in 1:length(ω)\n",
    "    println(j)\n",
    "    inputs[\"D₀\"] = 0.\n",
    "    for i in 1:N\n",
    "        println(i)\n",
    "        if i > 1\n",
    "            temp = computePolesNL(inputs,Ω[i-1,j],(.05,.05), Nq = 25, nevals = 2)\n",
    "        else\n",
    "            temp = computePolesNL(inputs,ω[j]    ,(.05,.05), Nq = 25, nevals = 2)\n",
    "        end\n",
    "        inputs[\"D₀\"] += δD\n",
    "        Ω[i,j] = temp[1]\n",
    "    end\n",
    "end"
   ]
  },
  {
   "cell_type": "code",
   "execution_count": null,
   "metadata": {
    "collapsed": false
   },
   "outputs": [],
   "source": [
    "plot(real(Ω)*3/π,imag(Ω),\"o\")\n",
    "grid(true)"
   ]
  },
  {
   "cell_type": "code",
   "execution_count": null,
   "metadata": {
    "collapsed": false
   },
   "outputs": [],
   "source": [
    "D_ind = zeros(Int32,size(Ω,2))\n",
    "for j in 1:size(Ω,2)\n",
    "    D_ind[j] = find(imag(Ω[:,j]).≥0)[1]-1\n",
    "end\n",
    "D_min,dummy = findmin(D_ind)\n",
    "dummy,ind = findmax(imag(Ω[D_min,:]))\n",
    "\n",
    "D1 = δD*(D_min-1)\n",
    "D2 = D1 + δD\n",
    "temp = Ω[D_min,ind]\n",
    "\n",
    "for i in 1:5\n",
    "    inputs[\"D₀\"] = copy((D1+D2)/2)\n",
    "    temp = computePolesNL(inputs,temp[1],(.05,.05), Nq = 25, nevals = 2)\n",
    "    if imag(temp[1])≥0\n",
    "        D2 = copy(inputs[\"D₀\"])\n",
    "    else\n",
    "        D1 = copy(inputs[\"D₀\"])\n",
    "    end\n",
    "end\n",
    "temp[1]*3/π"
   ]
  },
  {
   "cell_type": "code",
   "execution_count": null,
   "metadata": {
    "collapsed": false
   },
   "outputs": [],
   "source": [
    "inputs[\"D₀\"] = D2\n",
    "ω1,ψ = computePolesL(inputs, temp[1], 1, F = inputs[\"γ⊥\"]/(temp[1]-inputs[\"ω₀\"]+1im*inputs[\"γ⊥\"]))\n",
    "ψ_plot = reshape(ψ[:,1],(inputs[\"N_ext\"][1],inputs[\"N_ext\"][2]))\n",
    "pcolormesh(abs2(ψ_plot).',cmap = \"gray\")\n",
    "colorbar()\n",
    "ω1"
   ]
  },
  {
   "cell_type": "code",
   "execution_count": null,
   "metadata": {
    "collapsed": false
   },
   "outputs": [],
   "source": [
    "# TEST SPA scattered\n",
    "inputs[\"a\"] = 1.\n",
    "inputs[\"D₀\"] = .2\n",
    "ψ = solve_SPA(inputs, real(ω1[1]), z₀=.15im)"
   ]
  },
  {
   "cell_type": "code",
   "execution_count": null,
   "metadata": {
    "collapsed": false
   },
   "outputs": [],
   "source": [
    "ψ_plot = reshape(ψ[:,1],(inputs[\"N\"][1],inputs[\"N\"][2]))\n",
    "pcolormesh(real(ψ_plot).',cmap = \"bwr\")\n",
    "colorbar()"
   ]
  },
  {
   "cell_type": "code",
   "execution_count": null,
   "metadata": {
    "collapsed": false
   },
   "outputs": [],
   "source": [
    "# TEST SCATTER SOLVER\n",
    "Ψ = solve_scattered(inputs, real(ω1[1]); isNonLinear=true,ψ_init = ψ)"
   ]
  },
  {
   "cell_type": "code",
   "execution_count": null,
   "metadata": {
    "collapsed": false
   },
   "outputs": [],
   "source": [
    "# TEST SPA Lasing\n",
    "a = copy(inputs[\"a\"])\n",
    "inputs[\"a\"] = 0.\n",
    "inputs[\"D₀\"] = D2\n",
    "ψ₊,ψ₋,dummy = solve_SPA(inputs, real(ω1[1]),z₀₊=.0001im,z₀₋=.0001im)\n",
    "\n",
    "plot(inputs[\"x\"],abs2(ψ₊[inputs[\"x_inds\"]]))\n",
    "hold(true)\n",
    "plot(inputs[\"x\"],abs2(ψ₋[inputs[\"x_inds\"]]));"
   ]
  },
  {
   "cell_type": "code",
   "execution_count": null,
   "metadata": {
    "collapsed": false
   },
   "outputs": [],
   "source": [
    "# TEST LASING SOLVER\n",
    "ψ₊ = 1im*ψ₊/exp(1im*angle(ψ₊[1]))\n",
    "ψ₋ = 1im*ψ₋/exp(1im*angle(ψ₋[1]))\n",
    "ψ,ω = solve_lasing(inputs, inputs[\"D₀\"], ψ_init=ψ₊,ω_init = real(ω1[1]), inds = 14)\n",
    "ω"
   ]
  },
  {
   "cell_type": "code",
   "execution_count": null,
   "metadata": {
    "collapsed": false
   },
   "outputs": [],
   "source": [
    "figure(1)\n",
    "plot(abs2(ψ[inputs[\"x_inds\"]]))"
   ]
  },
  {
   "cell_type": "code",
   "execution_count": null,
   "metadata": {
    "collapsed": false
   },
   "outputs": [],
   "source": [
    "# TEST S-MATRIX COMPUTATION\n",
    "inputs[\"D₀\"] = D2\n",
    "inputs[\"a\"] = 1.\n",
    "S = computeS(inputs, 20; isNonLinear=true);"
   ]
  },
  {
   "cell_type": "code",
   "execution_count": null,
   "metadata": {
    "collapsed": false
   },
   "outputs": [],
   "source": [
    "T₊ = abs2(squeeze(S[2,1,:],(1,2)))\n",
    "T₋ = abs2(squeeze(S[1,2,:],(1,2)))\n",
    "R₊ = abs2(squeeze(S[1,1,:],(1,2)))\n",
    "R₋ = abs2(squeeze(S[2,2,:],(1,2)))\n",
    "plot(inputs[\"ω\"]*3/π,T₊)\n",
    "hold(true)\n",
    "plot(inputs[\"ω\"]*3/π,T₋)\n",
    "plot(inputs[\"ω\"]*3/π,R₊,\"x\")\n",
    "plot(inputs[\"ω\"]*3/π,R₋,\"x\")"
   ]
  },
  {
   "cell_type": "code",
   "execution_count": null,
   "metadata": {
    "collapsed": false
   },
   "outputs": [],
   "source": [
    "r = SALT_2d.Core.whichRegion((inputs[\"x_ext\"],inputs[\"u_ext\"]),inputs[\"∂_ext\"],inputs[\"geometry\"])\n",
    "pcolormesh(r)"
   ]
  },
  {
   "cell_type": "code",
   "execution_count": null,
   "metadata": {
    "collapsed": false
   },
   "outputs": [],
   "source": [
    "456^2"
   ]
  },
  {
   "cell_type": "code",
   "execution_count": null,
   "metadata": {
    "collapsed": false
   },
   "outputs": [],
   "source": [
    "ψ"
   ]
  },
  {
   "cell_type": "code",
   "execution_count": null,
   "metadata": {
    "collapsed": false
   },
   "outputs": [],
   "source": [
    "S = [[3 4 5 6; 5 6 32 5; 4 9 8 5];[3 4 5 6; 5 6 32 5; 4 9 8 5] ]"
   ]
  },
  {
   "cell_type": "code",
   "execution_count": null,
   "metadata": {
    "collapsed": false
   },
   "outputs": [],
   "source": [
    "function myfun(Q::Array{Int,2})\n",
    "    Q\n",
    "end"
   ]
  },
  {
   "cell_type": "code",
   "execution_count": null,
   "metadata": {
    "collapsed": false
   },
   "outputs": [],
   "source": [
    "myfun(S)"
   ]
  },
  {
   "cell_type": "code",
   "execution_count": null,
   "metadata": {
    "collapsed": false
   },
   "outputs": [],
   "source": [
    "S"
   ]
  },
  {
   "cell_type": "code",
   "execution_count": null,
   "metadata": {
    "collapsed": false
   },
   "outputs": [],
   "source": [
    "inputs[\"x_ext\"]"
   ]
  },
  {
   "cell_type": "code",
   "execution_count": null,
   "metadata": {
    "collapsed": false
   },
   "outputs": [],
   "source": [
    "ψ[inputs[\"x_inds\"]]"
   ]
  },
  {
   "cell_type": "code",
   "execution_count": null,
   "metadata": {
    "collapsed": false
   },
   "outputs": [],
   "source": [
    "inputs[\"u_inds\"]"
   ]
  },
  {
   "cell_type": "code",
   "execution_count": null,
   "metadata": {
    "collapsed": false
   },
   "outputs": [],
   "source": [
    "[1 2 3;4 5 6; 7 8 9][:]"
   ]
  },
  {
   "cell_type": "code",
   "execution_count": null,
   "metadata": {
    "collapsed": false
   },
   "outputs": [],
   "source": [
    "ψ[:,1]"
   ]
  },
  {
   "cell_type": "code",
   "execution_count": null,
   "metadata": {
    "collapsed": false
   },
   "outputs": [],
   "source": [
    "reshape(ψ[:,1],(inputs[\"N_ext\"][1],inputs[\"N_ext\"][2]))[inputs[\"x_inds\"],inputs[\"u_inds\"]][:]"
   ]
  },
  {
   "cell_type": "code",
   "execution_count": null,
   "metadata": {
    "collapsed": false
   },
   "outputs": [],
   "source": [
    "301*101"
   ]
  },
  {
   "cell_type": "code",
   "execution_count": null,
   "metadata": {
    "collapsed": false
   },
   "outputs": [],
   "source": [
    "ψ[(inputs[\"x_inds\"]*ones(Int,size(inputs[\"u_inds\"]'))+(ones(Int,size(inputs[\"x_inds\"]))*(inputs[\"u_inds\"]-1)')*inputs[\"N_ext\"][1])[:],1]"
   ]
  },
  {
   "cell_type": "code",
   "execution_count": null,
   "metadata": {
    "collapsed": false
   },
   "outputs": [],
   "source": [
    "inputs[\"x_inds\"] + (inputs[\"u_inds\"]-1)*inputs[N_]"
   ]
  },
  {
   "cell_type": "code",
   "execution_count": null,
   "metadata": {
    "collapsed": false
   },
   "outputs": [],
   "source": [
    "453*153"
   ]
  },
  {
   "cell_type": "code",
   "execution_count": null,
   "metadata": {
    "collapsed": false
   },
   "outputs": [],
   "source": [
    "inputs = processInputs()\n",
    "r = SALT_2d.Core.whichRegion((inputs[\"x_ext\"],inputs[\"u_ext\"]),inputs[\"∂_ext\"],inputs[\"geometry\"])[inputs[\"xu_inds\"]]\n",
    "inputs[\"ɛ_ext\"][r]"
   ]
  },
  {
   "cell_type": "code",
   "execution_count": null,
   "metadata": {
    "collapsed": false
   },
   "outputs": [],
   "source": [
    "pcolormesh(reshape(inputs[\"ɛ_ext\"][r],inputs[\"N\"][1],inputs[\"N\"][2]))\n",
    "colorbar()"
   ]
  },
  {
   "cell_type": "code",
   "execution_count": null,
   "metadata": {
    "collapsed": false
   },
   "outputs": [],
   "source": [
    "prod(inputs[\"N\"])"
   ]
  },
  {
   "cell_type": "code",
   "execution_count": null,
   "metadata": {
    "collapsed": false
   },
   "outputs": [],
   "source": [
    "size(r)"
   ]
  },
  {
   "cell_type": "code",
   "execution_count": null,
   "metadata": {
    "collapsed": false
   },
   "outputs": [],
   "source": [
    "inputs[\"∂_ext\"]"
   ]
  },
  {
   "cell_type": "code",
   "execution_count": null,
   "metadata": {
    "collapsed": true
   },
   "outputs": [],
   "source": [
    "20.1509-0.00145112im\n",
    " 20.1579-0.00137867im\n",
    " 19.7478-0.0842506im"
   ]
  },
  {
   "cell_type": "code",
   "execution_count": null,
   "metadata": {
    "collapsed": false
   },
   "outputs": [],
   "source": [
    "20.1355-0.000747291im\n",
    " 20.1451-0.000773858im\n",
    " 19.7416-0.0636089im "
   ]
  },
  {
   "cell_type": "code",
   "execution_count": null,
   "metadata": {
    "collapsed": true
   },
   "outputs": [],
   "source": [
    " 20.1355-0.000685363im\n",
    " 20.1452-0.000676246im\n",
    " 19.7361-0.0735497im "
   ]
  },
  {
   "cell_type": "code",
   "execution_count": null,
   "metadata": {
    "collapsed": false
   },
   "outputs": [],
   "source": [
    "(20.0833-0.321419im)/(14.207313875647193 - 0.22496329561476933im)"
   ]
  },
  {
   "cell_type": "code",
   "execution_count": null,
   "metadata": {
    "collapsed": true
   },
   "outputs": [],
   "source": []
  }
 ],
 "metadata": {
  "kernelspec": {
   "display_name": "Julia 0.5.1",
   "language": "julia",
   "name": "julia-0.5"
  },
  "language_info": {
   "file_extension": ".jl",
   "mimetype": "application/julia",
   "name": "julia",
   "version": "0.5.1"
  }
 },
 "nbformat": 4,
 "nbformat_minor": 0
}
