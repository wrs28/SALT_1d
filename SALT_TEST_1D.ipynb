{
 "cells": [
  {
   "cell_type": "code",
   "execution_count": 30,
   "metadata": {
    "collapsed": false
   },
   "outputs": [],
   "source": [
    "if length(LOAD_PATH)<4\n",
    "    addprocs(3)\n",
    "    push!(LOAD_PATH,\"/Users/wrsweeney/Box Sync/Research/SALT\")\n",
    "end\n",
    "\n",
    "using SALT_1d\n",
    "using SALT_1d_Parallel\n",
    "using PyPlot"
   ]
  },
  {
   "cell_type": "code",
   "execution_count": 31,
   "metadata": {
    "collapsed": false,
    "scrolled": true
   },
   "outputs": [],
   "source": [
    "inputs = processInputs()\n",
    "N = 5\n",
    ";"
   ]
  },
  {
   "cell_type": "code",
   "execution_count": 44,
   "metadata": {
    "collapsed": false
   },
   "outputs": [
    {
     "name": "stdout",
     "output_type": "stream",
     "text": [
      "elapsed time: 0.005687026 seconds\n",
      "elapsed time: 132.837149726 seconds\n"
     ]
    }
   ],
   "source": [
    "tic()\n",
    "S1,r = computeS_parallel(inputs; N=N, dispOpt=false, fileName = \"S1.dat\")\n",
    "toc()\n",
    "tic()\n",
    "wait(r)\n",
    "toc()\n",
    ";"
   ]
  },
  {
   "cell_type": "code",
   "execution_count": 41,
   "metadata": {
    "collapsed": false
   },
   "outputs": [
    {
     "name": "stdout",
     "output_type": "stream",
     "text": [
      "elapsed time: 0.00725916 seconds\n",
      "elapsed time: 138.986354998 seconds\n"
     ]
    }
   ],
   "source": [
    "tic()\n",
    "S2 = SharedArray(Complex128, (2,2,length(inputs[\"k\"]),N), pids=workers())\n",
    "computeS_parallel!(S2, inputs; N=N, dispOpt=false)\n",
    "toc()\n",
    "tic()\n",
    "while S2[1,1,1,1]==0\n",
    "    pause(.01)\n",
    "end\n",
    "toc()\n",
    ";"
   ]
  },
  {
   "cell_type": "code",
   "execution_count": 35,
   "metadata": {
    "collapsed": false
   },
   "outputs": [
    {
     "name": "stdout",
     "output_type": "stream",
     "text": [
      "elapsed time: 191.785371236 seconds\n"
     ]
    }
   ],
   "source": [
    "tic()\n",
    "S3 = computeS(inputs; N=N, dispOpt = false, fileName = \"S3.dat\")\n",
    "toc()\n",
    ";"
   ]
  },
  {
   "cell_type": "code",
   "execution_count": null,
   "metadata": {
    "collapsed": false,
    "scrolled": false
   },
   "outputs": [],
   "source": [
    "#verify computeCFs\n",
    "inputs = processInputs()\n",
    "η,u = computeCFs(inputs,inputs[\"k₀\"]+.1im,10, bc = \"out\")\n",
    "β,v = computeCFs(inputs,inputs[\"k₀\"]+.1im,10, bc = \"in\")\n",
    "\n",
    "figure(1)\n",
    "title(\"Outgoing TCF evals (x's) and incoming TCF evals (o's) for non-uniformly pumped cavity.\")\n",
    "plot(real(β),imag(β),\"o\")\n",
    "plot(real(η),imag(η),\"x\")\n",
    "\n",
    "figure(2)\n",
    "title(\"TCF states, purely outgoing, at complex k+ig. Expect exponential decay.\")\n",
    "plot(abs2(u))\n",
    "\n",
    "figure(3)\n",
    "title(\"TCF states, purely incoming, at complex k+ig. Expect exponential growth.\")\n",
    "plot(abs2(v))\n",
    ";"
   ]
  },
  {
   "cell_type": "code",
   "execution_count": null,
   "metadata": {
    "collapsed": false
   },
   "outputs": [],
   "source": [
    "#verify computePolesL\n",
    "\n",
    "inputs = processInputs()\n",
    "\n",
    "nD = 10\n",
    "nPoles = 3\n",
    "D = linspace(-.25,0.25,nD)\n",
    "\n",
    "kp = NaN*zeros(Complex128,nD,nPoles)\n",
    "ψp = NaN*zeros(Complex128,nD,inputs[\"N_ext\"],nPoles)\n",
    "for d in 1:nD\n",
    "    inputs[\"D₀\"] = D[d]\n",
    "    kp[d,:],ψp[d,:,:] = computePolesL(inputs, inputs[\"k₀\"], nPoles; F=1.)\n",
    "end\n",
    "\n",
    "figure(1)\n",
    "title(\"Trajectories of poles as n'' is varied uniformly. Circle indicates n''=0.\")\n",
    "plot(real(kp),imag(kp),\"-x\")\n",
    "plot(real(kp[ceil(Int,nD/2),:]),imag(kp[ceil(Int,nD/2),:]),\"o\")\n",
    "grid(true)\n",
    "\n",
    "figure(2)\n",
    "title(\"Wavefunctions associated with a pole at varying n''.\")\n",
    "plot(inputs[\"x_ext\"],abs2(ψp[:,:,1]'))\n",
    ";"
   ]
  },
  {
   "cell_type": "code",
   "execution_count": null,
   "metadata": {
    "collapsed": false,
    "scrolled": false
   },
   "outputs": [],
   "source": [
    "#verify computeZerosL\n",
    "\n",
    "inputs = processInputs()\n",
    "\n",
    "nD = 10\n",
    "nZeros = 3\n",
    "D = linspace(-.25,0.25,nD)\n",
    "\n",
    "kz = NaN*zeros(Complex128,nD,nZeros)\n",
    "ψz = NaN*zeros(Complex128,nD,inputs[\"N_ext\"],nZeros)\n",
    "for d in 1:nD\n",
    "    inputs[\"D₀\"] = D[d]\n",
    "    kz[d,:],ψz[d,:,:] = computeZerosL(inputs, inputs[\"k₀\"], nZeros; F=1.)\n",
    "end\n",
    "\n",
    "figure(1)\n",
    "title(\"Trajectories of zeros as n'' is varied uniformly. Square indicates n''=0.\")\n",
    "plot(real(kz),imag(kz),\"-o\")\n",
    "plot(real(kz[ceil(Int,nD/2),:]),imag(kz[ceil(Int,nD/2),:]),\"s\")\n",
    "grid(true)\n",
    "\n",
    "figure(2)\n",
    "title(\"Wavefunctions associated with a zero at varying n''.\")\n",
    "plot(inputs[\"x_ext\"],abs2(ψz[:,:,1]'))\n",
    ";"
   ]
  },
  {
   "cell_type": "code",
   "execution_count": null,
   "metadata": {
    "collapsed": false,
    "scrolled": false
   },
   "outputs": [],
   "source": [
    "#verify computePolesNL1\n",
    "\n",
    "inputs = processInputs()\n",
    "\n",
    "nD = 10\n",
    "D = linspace(0,0.4,nD)\n",
    "nPoles = 5\n",
    "\n",
    "kp_init, ψp_init = computePolesL(inputs,inputs[\"k₀\"],nPoles;F=1.)\n",
    "\n",
    "kp = NaN*zeros(Complex128,nD,nPoles)\n",
    "ψp = NaN*zeros(Complex128,nD,inputs[\"N_ext\"],nPoles)\n",
    "η = 0\n",
    "\n",
    "for n in 1:nPoles\n",
    "    for d in 1:nD\n",
    "        if d/3==round(d/3)\n",
    "            println([n,d])\n",
    "        end\n",
    "        inputs[\"D₀\"] = D[d]\n",
    "        if d==1\n",
    "            kp[d,n],ψp[d,:,n],η,conv = computePolesNL1(inputs, kp_init[n]; F=1., dispOpt = false ,tol = .7, max_count = 15, max_iter = 50)\n",
    "        else\n",
    "            kp[d,n],ψp[d,:,n],η,conv = computePolesNL1(inputs, kp[d-1,n] ; F=1., dispOpt = false ,tol = .7, max_count = 15, max_iter = 50, η_init = η, u_init = ψp[d-1,:,n] )\n",
    "        end\n",
    "    end\n",
    "end\n",
    "\n",
    "figure(1)\n",
    "plot(real(kp),imag(kp),\"-x\")\n",
    "\n",
    "figure(2)\n",
    "plot(abs2(ψp[:,:,1])')    \n",
    ";"
   ]
  },
  {
   "cell_type": "code",
   "execution_count": null,
   "metadata": {
    "collapsed": false
   },
   "outputs": [],
   "source": [
    "#verify computeZerosNL1\n",
    "\n",
    "inputs = processInputs()\n",
    "\n",
    "nD = 10\n",
    "D = linspace(0,-0.4,nD)\n",
    "nZeros = 5\n",
    "\n",
    "kz_init, ψz_init = computeZerosL(inputs,inputs[\"k₀\"],nZeros;F=1.)\n",
    "\n",
    "kz = NaN*zeros(Complex128,nD,nZeros)\n",
    "ψz = NaN*zeros(Complex128,nD,inputs[\"N_ext\"],nZeros)\n",
    "β = 0\n",
    "\n",
    "for n in 1:nZeros\n",
    "    for d in 1:nD\n",
    "        if d/3==round(d/3)\n",
    "            println([n,d])\n",
    "        end\n",
    "        inputs[\"D₀\"] = D[d]\n",
    "        if d==1\n",
    "            kz[d,n],ψz[d,:,n],β,conv = computeZerosNL1(inputs, kz_init[n]; F=1., dispOpt = false ,tol = .7, max_count = 15, max_iter = 50)\n",
    "        else\n",
    "            kz[d,n],ψz[d,:,n],β,conv = computeZerosNL1(inputs, kz[d-1,n] ; F=1., dispOpt = false ,tol = .7, max_count = 15, max_iter = 50, β_init = β, v_init = ψz[d-1,:,n] )\n",
    "        end\n",
    "    end\n",
    "end\n",
    "\n",
    "figure(1)\n",
    "plot(real(kz),imag(kz),\"-x\")\n",
    "\n",
    "figure(2)\n",
    "plot(abs2(ψz[:,:,1])')    \n",
    ";"
   ]
  },
  {
   "cell_type": "code",
   "execution_count": null,
   "metadata": {
    "collapsed": false
   },
   "outputs": [],
   "source": [
    "figure(1)\n",
    "plot(real(kp[1,:]),imag(kp[1,:]),lw=2.,\"x\",mew=2)\n",
    "plot(real(kp[end,:]),imag(kp[end,:]),lw=2.,\"^\",mew=2)\n",
    "plot(real(kp),imag(kp),lw=2.,\"b\")\n",
    "plot([0,100],[0,0],\"--\",color=[.8,.8,.8])\n",
    "plot(inputs[\"k₀\"]*[1,1],[-100,100],\"-\",color=[.5,.5,.5])\n",
    "xlim([41,47])\n",
    "ylim([-.7,.7])\n",
    "\n",
    "figure(2)\n",
    "plot(real(kz[1,:]),imag(kz[1,:]),lw=2.,\"ro\",mew=2)\n",
    "plot(real(kz[end,:]),imag(kz[end,:]),lw=2.,\"v\",mew=2,color=\"r\")\n",
    "plot(real(kz),imag(kz),lw=2.,\"r\")\n",
    "plot([0,100],[0,0],\"--\",color=[.8,.8,.8])\n",
    "plot([0,100],-.65*[1,1],\"-\",color=[.5,.5,.5])\n",
    "plot(inputs[\"k₀\"]*[1,1],[-100,100],\"-\",color=[.5,.5,.5])\n",
    "xlim([41,47])\n",
    "ylim([-.7,.7])"
   ]
  },
  {
   "cell_type": "code",
   "execution_count": null,
   "metadata": {
    "collapsed": false
   },
   "outputs": [],
   "source": [
    "# verify computePolesNL2\n",
    "\n",
    "inputs = processInputs()\n",
    "\n",
    "nD = 10\n",
    "D = linspace(0,0.4,nD)\n",
    "\n",
    "kpp = Array(Any,nD)\n",
    "\n",
    "for d in 1:nD\n",
    "    inputs[\"D₀\"] = D[d]\n",
    "    kpp[d] = computePolesNL2(inputs, inputs[\"k₀\"], (2.5,1.4); Nq=150, nPoles=7, F=1., R_min = .01)\n",
    "end\n",
    "\n",
    "for d in 1:nD\n",
    "    plot(real(kpp[d]),imag(kpp[d]),\"o\")\n",
    "end\n",
    ";"
   ]
  },
  {
   "cell_type": "code",
   "execution_count": null,
   "metadata": {
    "collapsed": false
   },
   "outputs": [],
   "source": [
    "#verifying that computePolesNL1 and computePolesNL2 agree\n",
    "\n",
    "figure(1)\n",
    "plot(real(kp),imag(kp),\"-x\")\n",
    "\n",
    "for d in 1:nD\n",
    "    plot(real(kpp[d]),imag(kpp[d]),\"o\", mfc = \"none\")\n",
    "end"
   ]
  },
  {
   "cell_type": "code",
   "execution_count": null,
   "metadata": {
    "collapsed": false
   },
   "outputs": [],
   "source": [
    "# verify computeZerosNL2\n",
    "\n",
    "inputs = processInputs()\n",
    "\n",
    "nD = 10\n",
    "D = linspace(0,-0.4,nD)\n",
    "\n",
    "kzz = Array(Any,nD)\n",
    "\n",
    "for d in 1:nD\n",
    "    inputs[\"D₀\"] = D[d]\n",
    "    kzz[d] = computeZerosNL2(inputs, inputs[\"k₀\"], (2.75,.4); Nq=150, nZeros=7, F=1., R_min = .01)\n",
    "end\n",
    "\n",
    "for d in 1:nD\n",
    "    plot(real(kzz[d]),imag(kzz[d]),\"o\")\n",
    "end\n",
    ";"
   ]
  },
  {
   "cell_type": "code",
   "execution_count": null,
   "metadata": {
    "collapsed": false
   },
   "outputs": [],
   "source": [
    "#verifying that computeZerosNL1 and computeZerosNL2 agree\n",
    "\n",
    "figure(1)\n",
    "plot(real(kz),imag(kz),\"-x\")\n",
    "\n",
    "for d in 1:nD\n",
    "    plot(real(kzz[d]),imag(kzz[d]),\"o\", mfc = \"none\")\n",
    "end"
   ]
  },
  {
   "cell_type": "code",
   "execution_count": null,
   "metadata": {
    "collapsed": false
   },
   "outputs": [],
   "source": [
    "#verify solve_scattered linear\n",
    "\n",
    "inputs = processInputs()\n",
    "inputs[\"a\"] = [1,0]\n",
    "inputs[\"D₀\"] = 0.015\n",
    "inputs[\"Γ\"][2]   = 5\n",
    "inputs[\"Γ_ext\"][2+2] = inputs[\"Γ\"][2]\n",
    "inputs[\"Γ\"][4]   = 5\n",
    "inputs[\"Γ_ext\"][4+2] = inputs[\"Γ\"][4]\n",
    "k = 43.16\n",
    "\n",
    "ψL = solve_scattered(inputs,k; F=1., truncate = true)\n",
    "\n",
    "figure(1)\n",
    "plot(inputs[\"x\"],real(ψL))\n",
    "\n",
    "figure(2)\n",
    "plot(inputs[\"x\"],imag(ψL))\n",
    "\n",
    "figure(3)\n",
    "plot(inputs[\"x\"],abs2(ψL))\n",
    ";"
   ]
  },
  {
   "cell_type": "code",
   "execution_count": null,
   "metadata": {
    "collapsed": false,
    "scrolled": false
   },
   "outputs": [],
   "source": [
    "#verify solve_scattered nonlinear\n",
    "\n",
    "inputs = processInputs()\n",
    "inputs[\"a\"] = [1,0]\n",
    "inputs[\"D₀\"] = 0.015\n",
    "inputs[\"Γ\"][2]   = 5\n",
    "inputs[\"Γ_ext\"][2+2] = inputs[\"Γ\"][2]\n",
    "inputs[\"Γ\"][4]   = 5\n",
    "inputs[\"Γ_ext\"][4+2] = inputs[\"Γ\"][4]\n",
    "k = 43.16\n",
    "\n",
    "ψR = solve_scattered(inputs,k; F=1., truncate = true, isNonLinear = true, dispOpt = true)\n",
    "\n",
    "figure(1)\n",
    "plot(inputs[\"x\"],real(ψR))\n",
    "\n",
    "figure(2)\n",
    "plot(inputs[\"x\"],imag(ψR))\n",
    "\n",
    "figure(3)\n",
    "plot(inputs[\"x\"],abs2(ψR))\n",
    ";"
   ]
  },
  {
   "cell_type": "code",
   "execution_count": null,
   "metadata": {
    "collapsed": false
   },
   "outputs": [],
   "source": [
    "# compare nonlinear and linear scattering\n",
    "plot(inputs[\"x\"],abs2(ψL),\"b\")\n",
    "plot(inputs[\"x\"],abs2(ψR),\"r\")\n",
    ";"
   ]
  },
  {
   "cell_type": "code",
   "execution_count": null,
   "metadata": {
    "collapsed": false,
    "scrolled": false
   },
   "outputs": [],
   "source": [
    "#verify S-matrix linear\n",
    "inputs = processInputs()\n",
    "\n",
    "S = computeS(inputs; N=1, isNonLinear = false, F=1., dispOpt = true)\n",
    "SL = S[:,:,:,end]\n",
    "\n",
    "figure(1)\n",
    "title(\"Red: reflection coefficient. Blue: transmission coefficient. Black: Gain\")\n",
    "plot(inputs[\"k\"],abs2(SL[1,1,:]),\"r\")\n",
    "plot(inputs[\"k\"],abs2(SL[2,1,:]),\"b\")\n",
    "plot(inputs[\"k\"],abs2(SL[1,1,:])+abs2(S[2,1,:])-1,\"k\")\n",
    ";"
   ]
  },
  {
   "cell_type": "code",
   "execution_count": null,
   "metadata": {
    "collapsed": false
   },
   "outputs": [],
   "source": [
    "inputs = processInputs()\n",
    "inputs[\"a\"] = [1.,0.]\n",
    "\n",
    "r = SALT_1d.Core.whichRegion(inputs[\"x\"],inputs[\"∂\"])\n",
    "F = inputs[\"F\"][r]\n",
    "loss1 = NaN*zeros(Float64,length(inputs[\"k\"]))\n",
    "loss2 = copy(loss1)\n",
    "\n",
    "for k_ind = 1:length(inputs[\"k\"])\n",
    "    k = inputs[\"k\"][k_ind]\n",
    "    ψ = solve_scattered(inputs, k; truncate = true)\n",
    "    ɛ = inputs[\"ɛ\"][r]+inputs[\"D₀\"]*F*inputs[\"γ⟂\"]/(k-inputs[\"k₀\"]+1im*inputs[\"γ⟂\"])\n",
    "\n",
    "    loss1[k_ind] = abs2(S[1,1,k_ind])+abs2(S[2,1,k_ind])-1\n",
    "    loss2[k_ind] = inputs[\"k\"][k_ind]*real(SALT_1d.Core.trapz(-imag(ɛ).*abs2(ψ),inputs[\"dx\"]))\n",
    "end\n",
    "\n",
    "title(L\"Gain as $r^2+t^2-1$ (b-) and bulk gain computed via $\\psi$ (r--)\")\n",
    "plot(inputs[\"k\"],loss1,\"b\"  ,lw = 1.5)\n",
    "plot(inputs[\"k\"],loss2,\"--r\",lw = 2.)\n",
    ";"
   ]
  },
  {
   "cell_type": "code",
   "execution_count": null,
   "metadata": {
    "collapsed": false,
    "scrolled": false
   },
   "outputs": [],
   "source": [
    "#verify S-matrix nonlinear\n",
    "inputs = processInputs()\n",
    "\n",
    "S = computeS(inputs; N=10, isNonLinear = true, F=1., dispOpt=true)\n",
    "SNL = S[:,:,:,end]\n",
    "\n",
    "figure(1)\n",
    "title(\"Red: reflection coefficient. Blue: transmission coefficient. Black: Gain\")\n",
    "plot(inputs[\"k\"],abs2(S[1,1,:]),\"r\")\n",
    "plot(inputs[\"k\"],abs2(S[2,1,:]),\"b\")\n",
    "plot(inputs[\"k\"],abs2(S[1,1,:])+abs2(S[2,1,:])-1,\"k\")\n",
    ";"
   ]
  },
  {
   "cell_type": "code",
   "execution_count": null,
   "metadata": {
    "collapsed": false
   },
   "outputs": [],
   "source": [
    "figure(1)\n",
    "title(\"Red: reflection coefficient. Blue: transmission coefficient. Black: Gain\")\n",
    "plot(inputs[\"k\"],abs2(SL[1,1,:]),\"r--\")\n",
    "plot(inputs[\"k\"],abs2(SL[2,1,:]),\"b--\")\n",
    "plot(inputs[\"k\"],abs2(SL[1,1,:])+abs2(S[2,1,:])-1,\"k--\")\n",
    "plot(inputs[\"k\"],abs2(SNL[1,1,:]),\"r\",lw=1.5)\n",
    "plot(inputs[\"k\"],abs2(SNL[2,1,:]),\"b\",lw=1.5)\n",
    "plot(inputs[\"k\"],abs2(SNL[1,1,:])+abs2(S[2,1,:])-1,\"k\",lw=1.5)\n",
    ";"
   ]
  },
  {
   "cell_type": "code",
   "execution_count": null,
   "metadata": {
    "collapsed": false
   },
   "outputs": [],
   "source": [
    "# # TEST SPA scattered\n",
    "# inputs[\"a\"] = 1.\n",
    "# inputs[\"D₀\"] = .2\n",
    "# ψ₊,ψ₋,(z₊,z₋,φ₊,φ₋,η,u) = solve_SPA(inputs, real(ω1[1]), z₀₊=.15im, z₀₋=1.5im)\n",
    "\n",
    "# plot(inputs[\"x\"],abs2(ψ₊[inputs[\"x_inds\"]]))\n",
    "# hold(true)\n",
    "# plot(inputs[\"x\"],abs2(ψ₋[inputs[\"x_inds\"]]))"
   ]
  },
  {
   "cell_type": "code",
   "execution_count": null,
   "metadata": {
    "collapsed": false
   },
   "outputs": [],
   "source": [
    "# # TEST SPA Lasing\n",
    "# a = copy(inputs[\"a\"])\n",
    "# inputs[\"a\"] = 0.\n",
    "# inputs[\"D₀\"] = D2\n",
    "# ψ₊,ψ₋,dummy = solve_SPA(inputs, real(ω1[1]),z₀₊=.0001im,z₀₋=.0001im)\n",
    "\n",
    "# plot(inputs[\"x\"],abs2(ψ₊[inputs[\"x_inds\"]]))\n",
    "# hold(true)a\n",
    "# plot(inputs[\"x\"],abs2(ψ₋[inputs[\"x_inds\"]]));"
   ]
  },
  {
   "cell_type": "code",
   "execution_count": null,
   "metadata": {
    "collapsed": false
   },
   "outputs": [],
   "source": [
    "# # TEST LASING SOLVER\n",
    "# ψ₊ = 1im*ψ₊/exp(1im*angle(ψ₊[1]))\n",
    "# ψ₋ = 1im*ψ₋/exp(1im*angle(ψ₋[1]))\n",
    "# ψ,ω = solve_lasing(inputs, inputs[\"D₀\"], ψ_init=ψ₊,ω_init = real(ω1[1]), inds = 14)\n",
    "# ω"
   ]
  },
  {
   "cell_type": "code",
   "execution_count": null,
   "metadata": {
    "collapsed": false
   },
   "outputs": [],
   "source": [
    "S2 = SharedArray(abspath(\"S1.dat\"),Complex128,(2,2,length(inputs[\"k\"]),2))"
   ]
  },
  {
   "cell_type": "code",
   "execution_count": null,
   "metadata": {
    "collapsed": false
   },
   "outputs": [],
   "source": [
    "fid = open(\"S1.dat\",\"r\")\n",
    "S3 = read(fid,Complex128,(2,2,2,2))"
   ]
  },
  {
   "cell_type": "code",
   "execution_count": null,
   "metadata": {
    "collapsed": false
   },
   "outputs": [],
   "source": [
    "S3"
   ]
  },
  {
   "cell_type": "code",
   "execution_count": null,
   "metadata": {
    "collapsed": true
   },
   "outputs": [],
   "source": []
  }
 ],
 "metadata": {
  "kernelspec": {
   "display_name": "Julia 0.5.0",
   "language": "julia",
   "name": "julia-0.5"
  },
  "language_info": {
   "file_extension": ".jl",
   "mimetype": "application/julia",
   "name": "julia",
   "version": "0.5.0"
  }
 },
 "nbformat": 4,
 "nbformat_minor": 0
}
